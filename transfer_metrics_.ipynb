{
  "nbformat": 4,
  "nbformat_minor": 0,
  "metadata": {
    "colab": {
      "provenance": [],
      "authorship_tag": "ABX9TyMRVj+KNFYGRnLbNSlQUlA+",
      "include_colab_link": true
    },
    "kernelspec": {
      "name": "python3",
      "display_name": "Python 3"
    },
    "language_info": {
      "name": "python"
    }
  },
  "cells": [
    {
      "cell_type": "markdown",
      "metadata": {
        "id": "view-in-github",
        "colab_type": "text"
      },
      "source": [
        "<a href=\"https://colab.research.google.com/github/natefusion/file-sharing-cloud-server/blob/main/transfer_metrics_.ipynb\" target=\"_parent\"><img src=\"https://colab.research.google.com/assets/colab-badge.svg\" alt=\"Open In Colab\"/></a>"
      ]
    },
    {
      "cell_type": "code",
      "source": [
        "#import libraries for data manipulation and visualization\n",
        "import pandas as pd\n",
        "import numpy as np\n",
        "import matplotlib.pyplot as plt\n",
        "import seaborn as sns\n",
        "from sklearn import preprocessing\n"
      ],
      "metadata": {
        "id": "ymgOIlKAn9CU"
      },
      "execution_count": null,
      "outputs": []
    },
    {
      "cell_type": "code",
      "execution_count": null,
      "metadata": {
        "id": "IBlENR7QI7N3"
      },
      "outputs": [],
      "source": [
        "#transfer_metrics.pkl on the server\n",
        "\n",
        "#The file will contain a python dictionary with \"upload_rate\", \"download_rate\", \"file_transfer_times\", \"system_response_times\" entries.\n",
        "\n",
        "#import transport metrics\n",
        "import pickle\n",
        "with open('transfer_metrics.pkl', 'rb') as f:\n",
        "    metrics = pickle.load(f)\n",
        "\n",
        ""
      ]
    },
    {
      "cell_type": "code",
      "source": [
        "#create data frame using the imported data\n",
        "ds = pd.DataFrame(metrics)\n",
        "#print first five rows of ds\n",
        "head(ds)\n",
        "\n",
        "var = list(ds.columns())\n",
        "val = list(ds.values())"
      ],
      "metadata": {
        "id": "rIXzjf8G1PQF"
      },
      "execution_count": null,
      "outputs": []
    },
    {
      "cell_type": "code",
      "source": [
        "#create plots for each var\n",
        "#upload rate\n",
        "plt.plot(upload_rate, marker = 'o:k', mec = 'hotpink')\n",
        "plt.title('Upload Rate')\n",
        "plt.xlabel('Packet')\n",
        "plt.ylabel('Rate (MB/s)')\n",
        "plt.show()\n",
        "\n",
        "#download rate\n",
        "plt.plot(download_rate, marker = 'o:k', mec = 'hotpink')\n",
        "plt.title('Download Rate')\n",
        "plt.xlabel('Packet')\n",
        "plt.ylabel('Rate (MB/s)')\n",
        "plt.show()\n",
        "\n",
        "#transfer time\n",
        "plt.plot(file_transfer_times, marker = 'o:k', mec = 'hotpink')\n",
        "plt.title('File Transfer Times')\n",
        "plt.xlabel('Packet')\n",
        "plt.ylabel('Total transfer/packet')\n",
        "plt.show()\n",
        "\n",
        "#response time\n",
        "plt.plot(system_response_times, marker = 'o:k', mec = 'hotpink')\n",
        "plt.title('System Response Times')\n",
        "plt.xlabel('Packet')\n",
        "plt.ylabel('System response/packet')\n",
        "plt.show()\n",
        "\n",
        "\n",
        "#take the mean value for each of the columns\n",
        "var_means = val.mean()\n",
        "print(var_means)\n",
        "\n",
        "#average metrics for each variable\n",
        "plt.bar(var, var_means, color = 'pink', width = 0.4)\n",
        "for i, v in enumerate(var_means):\n",
        "    plt.annotate(str(v), xy=(i, v), ha='center', va='bottom')\n",
        "plt.title('Average Metrics for Each Variable')\n",
        "plt.xlabel('Variable')\n",
        "plt.ylabel('Average Value')\n",
        "plt.show()"
      ],
      "metadata": {
        "id": "HYqLtPzu3HMt"
      },
      "execution_count": null,
      "outputs": []
    }
  ]
}