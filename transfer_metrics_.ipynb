{
 "cells": [
  {
   "cell_type": "markdown",
   "metadata": {
    "colab_type": "text",
    "id": "view-in-github"
   },
   "source": [
    "<a href=\"https://colab.research.google.com/github/natefusion/file-sharing-cloud-server/blob/main/transfer_metrics_.ipynb\" target=\"_parent\"><img src=\"https://colab.research.google.com/assets/colab-badge.svg\" alt=\"Open In Colab\"/></a>"
   ]
  },
  {
   "cell_type": "code",
   "execution_count": 2,
   "metadata": {
    "id": "ymgOIlKAn9CU"
   },
   "outputs": [],
   "source": [
    "#import libraries for data manipulation and visualization\n",
    "import numpy as np\n",
    "import matplotlib.pyplot as plt\n"
   ]
  },
  {
   "cell_type": "code",
   "execution_count": null,
   "metadata": {
    "id": "IBlENR7QI7N3"
   },
   "outputs": [],
   "source": [
    "#transfer_metrics.pkl on the server\n",
    "\n",
    "#The file will contain a python dictionary with \"upload_rate\", \"download_rate\", \"file_transfer_times\", \"system_response_times\" entries.\n",
    "fname = '/home/nathan/Documents/cnt3004/transfer_metrics-25719267-8b18-4866-b539-49be346eee27.pkl'\n",
    "\n",
    "#import transport metrics\n",
    "import pickle\n",
    "with open(fname, 'rb') as f:\n",
    "    metrics = pickle.load(f)"
   ]
  },
  {
   "cell_type": "code",
   "execution_count": 1,
   "metadata": {
    "id": "rIXzjf8G1PQF"
   },
   "outputs": [
    {
     "ename": "NameError",
     "evalue": "name 'metrics' is not defined",
     "output_type": "error",
     "traceback": [
      "\u001b[0;31m---------------------------------------------------------------------------\u001b[0m",
      "\u001b[0;31mNameError\u001b[0m                                 Traceback (most recent call last)",
      "Cell \u001b[0;32mIn[1], line 1\u001b[0m\n\u001b[0;32m----> 1\u001b[0m upload_rate \u001b[38;5;241m=\u001b[39m \u001b[43mmetrics\u001b[49m[\u001b[38;5;124m'\u001b[39m\u001b[38;5;124mupload_rate\u001b[39m\u001b[38;5;124m'\u001b[39m]\n\u001b[1;32m      2\u001b[0m download_rate \u001b[38;5;241m=\u001b[39m metrics[\u001b[38;5;124m'\u001b[39m\u001b[38;5;124mdownload_rate\u001b[39m\u001b[38;5;124m'\u001b[39m]\n\u001b[1;32m      3\u001b[0m file_transfer_times \u001b[38;5;241m=\u001b[39m metrics[\u001b[38;5;124m'\u001b[39m\u001b[38;5;124mfile_transfer_times\u001b[39m\u001b[38;5;124m'\u001b[39m]\n",
      "\u001b[0;31mNameError\u001b[0m: name 'metrics' is not defined"
     ]
    }
   ],
   "source": [
    "upload_rate = metrics['upload_rate']\n",
    "download_rate = metrics['download_rate']\n",
    "file_transfer_times = metrics['file_transfer_times']\n",
    "system_response_times = [x[1] for x in metrics['system_response_times']]"
   ]
  },
  {
   "cell_type": "code",
   "execution_count": null,
   "metadata": {},
   "outputs": [],
   "source": [
    "cp_response = []\n",
    "ls_response = []\n",
    "rm_response = []\n",
    "mkdir_response = []\n",
    "for x in metrics['system_response_times']:\n",
    "    if x[0] == 'cp':\n",
    "        cp_response.append(x[1])\n",
    "    elif x[0] == 'ls':\n",
    "        ls_response.append(x[1])\n",
    "    elif x[0] == 'rm':\n",
    "        rm_response.append(x[1])\n",
    "    elif x[0] == 'mkdir':\n",
    "        mkdir_response.append(x[1])"
   ]
  },
  {
   "cell_type": "code",
   "execution_count": null,
   "metadata": {
    "id": "HYqLtPzu3HMt"
   },
   "outputs": [],
   "source": [
    "rate_labels = ['Upload rate', 'Download rate']\n",
    "rate_avgs = [np.mean(upload_rate), np.mean(download_rate)]\n",
    "plt.bar(rate_labels, rate_avgs)\n",
    "plt.xlabel('Averages')\n",
    "plt.ylabel('Rate (MB/s)')\n",
    "plt.show()"
   ]
  },
  {
   "cell_type": "code",
   "execution_count": null,
   "metadata": {},
   "outputs": [],
   "source": [
    "plt.boxplot((upload_rate, download_rate), labels=rate_labels, showfliers=False)\n",
    "plt.ylabel('Rate (MB/s)')\n",
    "plt.show()"
   ]
  },
  {
   "cell_type": "code",
   "execution_count": null,
   "metadata": {},
   "outputs": [],
   "source": [
    "response_labels = ['cp', 'rm', 'ls', 'mkdir', 'All']\n",
    "response_avgs = [np.mean(cp_response), np.mean(rm_response), np.mean(ls_response), np.mean(mkdir_response), np.mean(system_response_times)]\n",
    "plt.bar(response_labels, response_avgs)\n",
    "plt.xlabel('Averages')\n",
    "plt.ylabel('Response Time (s)')\n",
    "plt.show()"
   ]
  },
  {
   "cell_type": "code",
   "execution_count": null,
   "metadata": {},
   "outputs": [],
   "source": [
    "times_run = [len(cp_response), len(ls_response), len(rm_response), len(mkdir_response)]\n",
    "plt.pie(times_run, labels=response_labels[0:4], autopct='%1.1f%%')\n",
    "plt.title('Times run')\n",
    "plt.show()"
   ]
  },
  {
   "cell_type": "code",
   "execution_count": null,
   "metadata": {},
   "outputs": [],
   "source": [
    "plt.boxplot((cp_response, rm_response, ls_response, mkdir_response, system_response_times), showfliers=False, labels=response_labels)\n",
    "plt.ylabel('Response Time (s)')\n",
    "plt.show()"
   ]
  }
 ],
 "metadata": {
  "colab": {
   "authorship_tag": "ABX9TyMRVj+KNFYGRnLbNSlQUlA+",
   "include_colab_link": true,
   "provenance": []
  },
  "kernelspec": {
   "display_name": "Python 3 (ipykernel)",
   "language": "python",
   "name": "python3"
  },
  "language_info": {
   "codemirror_mode": {
    "name": "ipython",
    "version": 3
   },
   "file_extension": ".py",
   "mimetype": "text/x-python",
   "name": "python",
   "nbconvert_exporter": "python",
   "pygments_lexer": "ipython3",
   "version": "3.12.7"
  }
 },
 "nbformat": 4,
 "nbformat_minor": 4
}
